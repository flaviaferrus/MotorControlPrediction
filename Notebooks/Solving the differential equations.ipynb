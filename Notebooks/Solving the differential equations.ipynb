{
 "cells": [
  {
   "cell_type": "markdown",
   "id": "e97134dd",
   "metadata": {},
   "source": [
    "# Solving the differential equations"
   ]
  },
  {
   "cell_type": "code",
   "execution_count": 1,
   "id": "6fe4142a",
   "metadata": {},
   "outputs": [
    {
     "name": "stdout",
     "output_type": "stream",
     "text": [
      "dH/dlambda1 = v1\n",
      "dH/dlambda2 = Wt*sigma*Abs(u1)**2 + v2\n",
      "dH/dlambda3 = u1\n",
      "dH/dlambda4 = u2\n",
      "dH/dv1 = lambda1\n",
      "dH/dv2 = lambda2\n",
      "dH/dp1 = 0\n",
      "dH/dp2 = 2*p2*exp(-T/gamma)*DiracDelta(-T + t)\n",
      "dH/du1 = 2*Wt*lambda2*sigma*(re(u1)*Derivative(re(u1), u1) + im(u1)*Derivative(im(u1), u1))*Abs(u1)*sign(u1)/u1 + epsilon*u1*(1 - alpha)*exp(-t/gamma)/l + lambda3\n",
      "dH/du2 = alpha*epsilon*u2*exp(-t/gamma)/l + lambda4\n"
     ]
    }
   ],
   "source": [
    "import sympy as sp\n",
    "\n",
    "# Define symbols\n",
    "t, T, gamma, epsilon, alpha, sigma, l = sp.symbols('t T gamma epsilon alpha sigma l')\n",
    "lambda1, lambda2, lambda3, lambda4 = sp.symbols('lambda1 lambda2 lambda3 lambda4')\n",
    "u1, u2 = sp.symbols('u1 u2')\n",
    "v1, v2 = sp.symbols('v1 v2')\n",
    "Wt = sp.symbols('Wt')\n",
    "p1, p2 = sp.symbols('p1 p2')\n",
    "\n",
    "# Define L function\n",
    "def L(x, u):\n",
    "    return ((1/T - p2**2) * sp.DiracDelta(t - T) * sp.exp(-T/gamma) - \n",
    "            epsilon * sp.exp(-t/gamma) / l * ((1 - alpha) * (u[0]**2)/2 + alpha * (u[1]**2)/2))\n",
    "\n",
    "# Define H function\n",
    "def H(t, x, lambdas, u):\n",
    "    return (lambdas[0] * v1 + lambdas[1] * (v2 + sp.Abs(u[0])**2 * sigma * Wt) + \n",
    "            lambdas[2] * u[0] + lambdas[3] * u[1] - L(x, u))\n",
    "\n",
    "# Differentiate H with respect to lambdas, v's, p's, and u's\n",
    "variables = [lambda1, lambda2, lambda3, lambda4, v1, v2, p1, p2, u1, u2]\n",
    "derivatives = []\n",
    "\n",
    "for var in variables:\n",
    "    derivative = sp.diff(H(t, None, [lambda1, lambda2, lambda3, lambda4], [u1, u2]), var)\n",
    "    derivatives.append(derivative)\n",
    "\n",
    "# Display derivatives\n",
    "for var, derivative in zip(variables, derivatives):\n",
    "    print(f\"dH/d{var} = {derivative}\")\n"
   ]
  },
  {
   "cell_type": "code",
   "execution_count": 2,
   "id": "b1189f82",
   "metadata": {},
   "outputs": [
    {
     "name": "stdout",
     "output_type": "stream",
     "text": [
      "\\frac{\\partial H}{\\partial \\lambda_{1}} = v_{1}\n",
      "\\frac{\\partial H}{\\partial \\lambda_{2}} = Wt \\sigma \\left|{u_{1}}\\right|^{2} + v_{2}\n",
      "\\frac{\\partial H}{\\partial \\lambda_{3}} = u_{1}\n",
      "\\frac{\\partial H}{\\partial \\lambda_{4}} = u_{2}\n",
      "\\frac{\\partial H}{\\partial v_{1}} = \\lambda_{1}\n",
      "\\frac{\\partial H}{\\partial v_{2}} = \\lambda_{2}\n",
      "\\frac{\\partial H}{\\partial p_{1}} = 0\n",
      "\\frac{\\partial H}{\\partial p_{2}} = 2 p_{2} e^{- \\frac{T}{\\gamma}} \\delta\\left(- T + t\\right)\n",
      "\\frac{\\partial H}{\\partial u_{1}} = \\frac{2 Wt \\lambda_{2} \\sigma \\left(\\operatorname{re}{\\left(u_{1}\\right)} \\frac{d}{d u_{1}} \\operatorname{re}{\\left(u_{1}\\right)} + \\operatorname{im}{\\left(u_{1}\\right)} \\frac{d}{d u_{1}} \\operatorname{im}{\\left(u_{1}\\right)}\\right) \\left|{u_{1}}\\right| \\operatorname{sign}{\\left(u_{1} \\right)}}{u_{1}} + \\frac{\\epsilon u_{1} \\cdot \\left(1 - \\alpha\\right) e^{- \\frac{t}{\\gamma}}}{l} + \\lambda_{3}\n",
      "\\frac{\\partial H}{\\partial u_{2}} = \\frac{\\alpha \\epsilon u_{2} e^{- \\frac{t}{\\gamma}}}{l} + \\lambda_{4}\n"
     ]
    }
   ],
   "source": [
    "# Print derivatives in LaTeX format\n",
    "for var, derivative in zip(variables, derivatives):\n",
    "    print(f\"\\\\frac{{\\\\partial H}}{{\\\\partial {sp.latex(var)}}} = {sp.latex(derivative)}\")\n"
   ]
  },
  {
   "cell_type": "markdown",
   "id": "be502747",
   "metadata": {},
   "source": [
    "## Same exercise but considering all variables to be real"
   ]
  },
  {
   "cell_type": "code",
   "execution_count": 3,
   "id": "3929f6a2",
   "metadata": {},
   "outputs": [
    {
     "name": "stdout",
     "output_type": "stream",
     "text": [
      "dH/dlambda1 = v1\n",
      "dH/dlambda2 = Wt*sigma*u1**2 + v2\n",
      "dH/dlambda3 = u1\n",
      "dH/dlambda4 = u2\n",
      "dH/dv1 = lambda1\n",
      "dH/dv2 = lambda2\n",
      "dH/dp1 = 0\n",
      "dH/dp2 = 2*p2*exp(-T/gamma)*DiracDelta(-T + t)\n",
      "dH/du1 = 2*Wt*lambda2*sigma*u1 + epsilon*u1*(1 - alpha)*exp(-t/gamma)/l + lambda3\n",
      "dH/du2 = alpha*epsilon*u2*exp(-t/gamma)/l + lambda4\n"
     ]
    }
   ],
   "source": [
    "import sympy as sp\n",
    "\n",
    "# Define symbols\n",
    "t, T, gamma, epsilon, alpha, sigma, l = sp.symbols('t T gamma epsilon alpha sigma l', real=True)\n",
    "lambda1, lambda2, lambda3, lambda4 = sp.symbols('lambda1 lambda2 lambda3 lambda4', real=True)\n",
    "u1, u2 = sp.symbols('u1 u2', real=True)\n",
    "v1, v2 = sp.symbols('v1 v2', real=True)\n",
    "Wt = sp.symbols('Wt', real=True)\n",
    "p1, p2 = sp.symbols('p1 p2', real=True)\n",
    "\n",
    "# Define L function\n",
    "def L(x, u):\n",
    "    return ((1/T - x[1]**2) * sp.DiracDelta(t - T) * sp.exp(-T/gamma) - \n",
    "            epsilon * sp.exp(-t/gamma) / l * ((1 - alpha) * (u[0]**2)/2 + alpha * (u[1]**2)/2))\n",
    "\n",
    "# Define H function\n",
    "def H(t, x, lambdas, u):\n",
    "    return (lambdas[0] * x[2] + lambdas[1] * (x[3] + sp.Abs(u[0])**2 * sigma * Wt) + \n",
    "            lambdas[2] * u[0] + lambdas[3] * u[1] - L(x, u))\n",
    "\n",
    "# Differentiate H with respect to lambdas, v's, p's, and u's\n",
    "variables = [lambda1, lambda2, lambda3, lambda4, v1, v2, p1, p2, u1, u2]\n",
    "derivatives = []\n",
    "\n",
    "for var in variables:\n",
    "    derivative = sp.diff(H(t, [p1, p2, v1, v2], [lambda1, lambda2, lambda3, lambda4], [u1, u2]), var)\n",
    "    derivatives.append(derivative)\n",
    "\n",
    "# Display derivatives\n",
    "for var, derivative in zip(variables, derivatives):\n",
    "    print(f\"dH/d{var} = {derivative}\")\n"
   ]
  },
  {
   "cell_type": "code",
   "execution_count": 4,
   "id": "3347ee47",
   "metadata": {},
   "outputs": [
    {
     "name": "stdout",
     "output_type": "stream",
     "text": [
      "\\frac{\\partial H}{\\partial \\lambda_{1}} = v_{1}\n",
      "\\frac{\\partial H}{\\partial \\lambda_{2}} = Wt \\sigma u_{1}^{2} + v_{2}\n",
      "\\frac{\\partial H}{\\partial \\lambda_{3}} = u_{1}\n",
      "\\frac{\\partial H}{\\partial \\lambda_{4}} = u_{2}\n",
      "\\frac{\\partial H}{\\partial v_{1}} = \\lambda_{1}\n",
      "\\frac{\\partial H}{\\partial v_{2}} = \\lambda_{2}\n",
      "\\frac{\\partial H}{\\partial p_{1}} = 0\n",
      "\\frac{\\partial H}{\\partial p_{2}} = 2 p_{2} e^{- \\frac{T}{\\gamma}} \\delta\\left(- T + t\\right)\n",
      "\\frac{\\partial H}{\\partial u_{1}} = 2 Wt \\lambda_{2} \\sigma u_{1} + \\frac{\\epsilon u_{1} \\cdot \\left(1 - \\alpha\\right) e^{- \\frac{t}{\\gamma}}}{l} + \\lambda_{3}\n",
      "\\frac{\\partial H}{\\partial u_{2}} = \\frac{\\alpha \\epsilon u_{2} e^{- \\frac{t}{\\gamma}}}{l} + \\lambda_{4}\n"
     ]
    }
   ],
   "source": [
    "# Print derivatives in LaTeX format\n",
    "for var, derivative in zip(variables, derivatives):\n",
    "    print(f\"\\\\frac{{\\\\partial H}}{{\\\\partial {sp.latex(var)}}} = {sp.latex(derivative)}\")\n"
   ]
  },
  {
   "cell_type": "markdown",
   "id": "c4d693ca",
   "metadata": {},
   "source": [
    "### Finding the optimal controller:"
   ]
  },
  {
   "cell_type": "code",
   "execution_count": 5,
   "id": "a2df9fa2",
   "metadata": {},
   "outputs": [
    {
     "name": "stdout",
     "output_type": "stream",
     "text": [
      "Solution for u1 and u2:\n",
      "u_{1} = - \\frac{l \\lambda_{3} e^{\\frac{t}{\\gamma}}}{2 Wt l \\lambda_{2} \\sigma e^{\\frac{t}{\\gamma}} - \\alpha \\epsilon + \\epsilon}\n",
      "u_{2} = - \\frac{l \\lambda_{4} e^{\\frac{t}{\\gamma}}}{\\alpha \\epsilon}\n"
     ]
    }
   ],
   "source": [
    "# Define derivatives from previous calculations with u1 being real\n",
    "dH_du1 = 2*Wt*lambda2*sigma*u1 + epsilon*u1*(1 - alpha)*sp.exp(-t/gamma)/l + lambda3\n",
    "dH_du2 = alpha * epsilon * u2 * sp.exp(-t / gamma) / l + lambda4\n",
    "\n",
    "# Solve the system of equations\n",
    "solution = sp.solve([dH_du1, dH_du2], [u1, u2])\n",
    "\n",
    "# Print the solution\n",
    "print(\"Solution for u1 and u2:\")\n",
    "for u, value in solution.items():\n",
    "    print(f\"{sp.latex(u)} = {sp.latex(value)}\")"
   ]
  },
  {
   "cell_type": "markdown",
   "id": "20be5923",
   "metadata": {},
   "source": [
    "Let's compute the Hessian matrix for the function `H` and evaluate its eigenvalues to determine the nature of the critical points. Here's the code:"
   ]
  },
  {
   "cell_type": "code",
   "execution_count": 6,
   "id": "0996fbbe",
   "metadata": {},
   "outputs": [
    {
     "name": "stdout",
     "output_type": "stream",
     "text": [
      "Eigenvalues of the Hessian matrix:\n",
      "\\frac{\\left(2 Wt l \\lambda_{2} \\sigma e^{\\frac{t}{\\gamma}} - \\alpha \\epsilon + \\epsilon\\right) e^{- \\frac{t}{\\gamma}}}{l}\n",
      "\\frac{\\alpha \\epsilon e^{- \\frac{t}{\\gamma}}}{l}\n"
     ]
    }
   ],
   "source": [
    "# Define Hessian matrix\n",
    "Hessian = sp.zeros(2)\n",
    "\n",
    "# Define H function\n",
    "#H = lambda2 * (sp.Abs(u1)**2 * sigma * Wt + sp.re(u1)**2 + sp.im(u1)**2) / u1**2 * sp.Abs(u1) * sp.sign(u1) + epsilon * u1 * (1 - alpha) * sp.exp(-t / gamma) / l\n",
    "Hessian[0, 0] = sp.diff(H(t, [p1, p2, v1, v2], [lambda1, lambda2, lambda3, lambda4], [u1, u2]), u1, u1)\n",
    "Hessian[0, 1] = sp.diff(H(t, [p1, p2, v1, v2], [lambda1, lambda2, lambda3, lambda4], [u1, u2]), u1, u2)\n",
    "Hessian[1, 0] = sp.diff(H(t, [p1, p2, v1, v2], [lambda1, lambda2, lambda3, lambda4], [u1, u2]), u2, u1)\n",
    "Hessian[1, 1] = sp.diff(H(t, [p1, p2, v1, v2], [lambda1, lambda2, lambda3, lambda4], [u1, u2]), u2, u2)\n",
    "\n",
    "# Compute eigenvalues\n",
    "eigenvalues = Hessian.eigenvals()\n",
    "\n",
    "# Print eigenvalues\n",
    "print(\"Eigenvalues of the Hessian matrix:\")\n",
    "for eigenvalue in eigenvalues:\n",
    "    print(sp.latex(eigenvalue))"
   ]
  },
  {
   "cell_type": "code",
   "execution_count": 7,
   "id": "cf075508",
   "metadata": {},
   "outputs": [],
   "source": [
    "# Check if all eigenvalues are negative\n",
    "all_negative = all(eigval.is_negative for eigval in eigenvalues)"
   ]
  },
  {
   "cell_type": "code",
   "execution_count": 8,
   "id": "34f27fee",
   "metadata": {},
   "outputs": [
    {
     "name": "stdout",
     "output_type": "stream",
     "text": [
      "The Hessian matrix is not negative definite.\n"
     ]
    }
   ],
   "source": [
    "# Print the result\n",
    "if all_negative:\n",
    "    print(\"The Hessian matrix is negative definite.\")\n",
    "else:\n",
    "    print(\"The Hessian matrix is not negative definite.\")"
   ]
  },
  {
   "cell_type": "markdown",
   "id": "a588d921",
   "metadata": {},
   "source": [
    "Including the expressions for the optimal controller in the combined differential equations drown from the Pontryagin's theorem we get the differential system fully describing our dynamical model, this is "
   ]
  },
  {
   "cell_type": "code",
   "execution_count": 9,
   "id": "d14c6189",
   "metadata": {},
   "outputs": [
    {
     "data": {
      "text/plain": [
       "dict_items([(u1, -l*lambda3*exp(t/gamma)/(2*Wt*l*lambda2*sigma*exp(t/gamma) - alpha*epsilon + epsilon)), (u2, -l*lambda4*exp(t/gamma)/(alpha*epsilon))])"
      ]
     },
     "execution_count": 9,
     "metadata": {},
     "output_type": "execute_result"
    }
   ],
   "source": [
    "solution.items()"
   ]
  },
  {
   "cell_type": "code",
   "execution_count": 8,
   "id": "ba3519ff",
   "metadata": {},
   "outputs": [],
   "source": [
    "# Define expressions for u1 and u2 from the previous solution\n",
    "u1_expr =  -l*lambda3*sp.exp(t/gamma)/(2*Wt*l*lambda2*sigma*sp.exp(t/gamma) - alpha*epsilon + epsilon)\n",
    "u2_expr = -l*lambda4*sp.exp(t/gamma)/(alpha*epsilon)"
   ]
  },
  {
   "cell_type": "code",
   "execution_count": 10,
   "id": "2ab257ea",
   "metadata": {},
   "outputs": [
    {
     "name": "stdout",
     "output_type": "stream",
     "text": [
      "\n",
      "Substituted derivatives:\n",
      "dH/dlambda1 = v1\n"
     ]
    },
    {
     "name": "stdout",
     "output_type": "stream",
     "text": [
      "dH/dlambda2 = Wt*l**2*lambda3**2*sigma*exp(2*t/gamma)/(2*Wt*l*lambda2*sigma*exp(t/gamma) - alpha*epsilon + epsilon)**2 + v2\n",
      "dH/dlambda3 = -l*lambda3*exp(t/gamma)/(2*Wt*l*lambda2*sigma*exp(t/gamma) - alpha*epsilon + epsilon)\n",
      "dH/dlambda4 = -l*lambda4*exp(t/gamma)/(alpha*epsilon)\n",
      "dH/dv1 = lambda1\n",
      "dH/dv2 = lambda2\n",
      "dH/dp1 = 0\n",
      "dH/dp2 = 2*p2*exp(-T/gamma)*DiracDelta(T - t)\n",
      "dH/du1 = 0\n",
      "dH/du2 = 0\n"
     ]
    }
   ],
   "source": [
    "# Substitute values of u1 and u2 into derivatives\n",
    "for i, var in enumerate([u1, u2]):\n",
    "    for j, derivative in enumerate(derivatives):\n",
    "        derivatives[j] = derivative.subs({var: u1_expr if i == 0 else u2_expr})\n",
    "\n",
    "# Display substituted derivatives\n",
    "print(\"\\nSubstituted derivatives:\")\n",
    "for var, derivative in zip(variables, derivatives):\n",
    "    print(f\"dH/d{var} = {derivative.simplify()}\")"
   ]
  },
  {
   "cell_type": "code",
   "execution_count": 11,
   "id": "65df73b1",
   "metadata": {},
   "outputs": [
    {
     "name": "stdout",
     "output_type": "stream",
     "text": [
      "\\frac{\\partial H}{\\partial \\lambda_{1}} = v_{1}\n",
      "\\frac{\\partial H}{\\partial \\lambda_{2}} = \\frac{Wt l^{2} \\lambda_{3}^{2} \\sigma e^{\\frac{2 t}{\\gamma}}}{\\left(2 Wt l \\lambda_{2} \\sigma e^{\\frac{t}{\\gamma}} - \\alpha \\epsilon + \\epsilon\\right)^{2}} + v_{2}\n",
      "\\frac{\\partial H}{\\partial \\lambda_{3}} = - \\frac{l \\lambda_{3} e^{\\frac{t}{\\gamma}}}{2 Wt l \\lambda_{2} \\sigma e^{\\frac{t}{\\gamma}} - \\alpha \\epsilon + \\epsilon}\n",
      "\\frac{\\partial H}{\\partial \\lambda_{4}} = - \\frac{l \\lambda_{4} e^{\\frac{t}{\\gamma}}}{\\alpha \\epsilon}\n",
      "\\frac{\\partial H}{\\partial v_{1}} = \\lambda_{1}\n",
      "\\frac{\\partial H}{\\partial v_{2}} = \\lambda_{2}\n",
      "\\frac{\\partial H}{\\partial p_{1}} = 0\n",
      "\\frac{\\partial H}{\\partial p_{2}} = 2 p_{2} e^{- \\frac{T}{\\gamma}} \\delta\\left(- T + t\\right)\n",
      "\\frac{\\partial H}{\\partial u_{1}} = - \\frac{2 Wt l \\lambda_{2} \\lambda_{3} \\sigma e^{\\frac{t}{\\gamma}}}{2 Wt l \\lambda_{2} \\sigma e^{\\frac{t}{\\gamma}} - \\alpha \\epsilon + \\epsilon} - \\frac{\\epsilon \\lambda_{3} \\cdot \\left(1 - \\alpha\\right)}{2 Wt l \\lambda_{2} \\sigma e^{\\frac{t}{\\gamma}} - \\alpha \\epsilon + \\epsilon} + \\lambda_{3}\n",
      "\\frac{\\partial H}{\\partial u_{2}} = 0\n"
     ]
    }
   ],
   "source": [
    "# Print derivatives in LaTeX format\n",
    "for var, derivative in zip(variables, derivatives):\n",
    "    print(f\"\\\\frac{{\\\\partial H}}{{\\\\partial {sp.latex(var)}}} = {sp.latex(derivative)}\")"
   ]
  },
  {
   "cell_type": "markdown",
   "id": "b711aa2d",
   "metadata": {},
   "source": [
    "Now we solve the syste of 8 differential equations with the optimal controller substitued. \n",
    "\n",
    "Notice that we are assuming all the initial conditions to be 0. For the case of the position and velocity, these are our assumptions. However, for the case of the $\\lambda$'s, how do we stablish the criterion for the initial conditions?"
   ]
  },
  {
   "cell_type": "code",
   "execution_count": 16,
   "id": "f0148f0a",
   "metadata": {},
   "outputs": [
    {
     "name": "stderr",
     "output_type": "stream",
     "text": [
      "In /Users/flaviaferrusmarimon/anaconda3/lib/python3.9/site-packages/matplotlib/mpl-data/stylelib/_classic_test.mplstyle: \n",
      "The text.latex.preview rcparam was deprecated in Matplotlib 3.3 and will be removed two minor releases later.\n",
      "In /Users/flaviaferrusmarimon/anaconda3/lib/python3.9/site-packages/matplotlib/mpl-data/stylelib/_classic_test.mplstyle: \n",
      "The mathtext.fallback_to_cm rcparam was deprecated in Matplotlib 3.3 and will be removed two minor releases later.\n",
      "In /Users/flaviaferrusmarimon/anaconda3/lib/python3.9/site-packages/matplotlib/mpl-data/stylelib/_classic_test.mplstyle: Support for setting the 'mathtext.fallback_to_cm' rcParam is deprecated since 3.3 and will be removed two minor releases later; use 'mathtext.fallback : 'cm' instead.\n",
      "In /Users/flaviaferrusmarimon/anaconda3/lib/python3.9/site-packages/matplotlib/mpl-data/stylelib/_classic_test.mplstyle: \n",
      "The validate_bool_maybe_none function was deprecated in Matplotlib 3.3 and will be removed two minor releases later.\n",
      "In /Users/flaviaferrusmarimon/anaconda3/lib/python3.9/site-packages/matplotlib/mpl-data/stylelib/_classic_test.mplstyle: \n",
      "The savefig.jpeg_quality rcparam was deprecated in Matplotlib 3.3 and will be removed two minor releases later.\n",
      "In /Users/flaviaferrusmarimon/anaconda3/lib/python3.9/site-packages/matplotlib/mpl-data/stylelib/_classic_test.mplstyle: \n",
      "The keymap.all_axes rcparam was deprecated in Matplotlib 3.3 and will be removed two minor releases later.\n",
      "In /Users/flaviaferrusmarimon/anaconda3/lib/python3.9/site-packages/matplotlib/mpl-data/stylelib/_classic_test.mplstyle: \n",
      "The animation.avconv_path rcparam was deprecated in Matplotlib 3.3 and will be removed two minor releases later.\n",
      "In /Users/flaviaferrusmarimon/anaconda3/lib/python3.9/site-packages/matplotlib/mpl-data/stylelib/_classic_test.mplstyle: \n",
      "The animation.avconv_args rcparam was deprecated in Matplotlib 3.3 and will be removed two minor releases later.\n"
     ]
    },
    {
     "name": "stdout",
     "output_type": "stream",
     "text": [
      "Solution:\n",
      "[[0. 0. 0. 0. 0. 0. 0. 0.]\n",
      " [0. 0. 0. 0. 0. 0. 0. 0.]\n",
      " [0. 0. 0. 0. 0. 0. 0. 0.]\n",
      " [0. 0. 0. 0. 0. 0. 0. 0.]\n",
      " [0. 0. 0. 0. 0. 0. 0. 0.]\n",
      " [0. 0. 0. 0. 0. 0. 0. 0.]\n",
      " [0. 0. 0. 0. 0. 0. 0. 0.]\n",
      " [0. 0. 0. 0. 0. 0. 0. 0.]\n",
      " [0. 0. 0. 0. 0. 0. 0. 0.]\n",
      " [0. 0. 0. 0. 0. 0. 0. 0.]\n",
      " [0. 0. 0. 0. 0. 0. 0. 0.]\n",
      " [0. 0. 0. 0. 0. 0. 0. 0.]\n",
      " [0. 0. 0. 0. 0. 0. 0. 0.]\n",
      " [0. 0. 0. 0. 0. 0. 0. 0.]\n",
      " [0. 0. 0. 0. 0. 0. 0. 0.]\n",
      " [0. 0. 0. 0. 0. 0. 0. 0.]\n",
      " [0. 0. 0. 0. 0. 0. 0. 0.]\n",
      " [0. 0. 0. 0. 0. 0. 0. 0.]\n",
      " [0. 0. 0. 0. 0. 0. 0. 0.]\n",
      " [0. 0. 0. 0. 0. 0. 0. 0.]\n",
      " [0. 0. 0. 0. 0. 0. 0. 0.]\n",
      " [0. 0. 0. 0. 0. 0. 0. 0.]\n",
      " [0. 0. 0. 0. 0. 0. 0. 0.]\n",
      " [0. 0. 0. 0. 0. 0. 0. 0.]\n",
      " [0. 0. 0. 0. 0. 0. 0. 0.]\n",
      " [0. 0. 0. 0. 0. 0. 0. 0.]\n",
      " [0. 0. 0. 0. 0. 0. 0. 0.]\n",
      " [0. 0. 0. 0. 0. 0. 0. 0.]\n",
      " [0. 0. 0. 0. 0. 0. 0. 0.]\n",
      " [0. 0. 0. 0. 0. 0. 0. 0.]\n",
      " [0. 0. 0. 0. 0. 0. 0. 0.]\n",
      " [0. 0. 0. 0. 0. 0. 0. 0.]\n",
      " [0. 0. 0. 0. 0. 0. 0. 0.]\n",
      " [0. 0. 0. 0. 0. 0. 0. 0.]\n",
      " [0. 0. 0. 0. 0. 0. 0. 0.]\n",
      " [0. 0. 0. 0. 0. 0. 0. 0.]\n",
      " [0. 0. 0. 0. 0. 0. 0. 0.]\n",
      " [0. 0. 0. 0. 0. 0. 0. 0.]\n",
      " [0. 0. 0. 0. 0. 0. 0. 0.]\n",
      " [0. 0. 0. 0. 0. 0. 0. 0.]\n",
      " [0. 0. 0. 0. 0. 0. 0. 0.]\n",
      " [0. 0. 0. 0. 0. 0. 0. 0.]\n",
      " [0. 0. 0. 0. 0. 0. 0. 0.]\n",
      " [0. 0. 0. 0. 0. 0. 0. 0.]\n",
      " [0. 0. 0. 0. 0. 0. 0. 0.]\n",
      " [0. 0. 0. 0. 0. 0. 0. 0.]\n",
      " [0. 0. 0. 0. 0. 0. 0. 0.]\n",
      " [0. 0. 0. 0. 0. 0. 0. 0.]\n",
      " [0. 0. 0. 0. 0. 0. 0. 0.]\n",
      " [0. 0. 0. 0. 0. 0. 0. 0.]\n",
      " [0. 0. 0. 0. 0. 0. 0. 0.]\n",
      " [0. 0. 0. 0. 0. 0. 0. 0.]\n",
      " [0. 0. 0. 0. 0. 0. 0. 0.]\n",
      " [0. 0. 0. 0. 0. 0. 0. 0.]\n",
      " [0. 0. 0. 0. 0. 0. 0. 0.]\n",
      " [0. 0. 0. 0. 0. 0. 0. 0.]\n",
      " [0. 0. 0. 0. 0. 0. 0. 0.]\n",
      " [0. 0. 0. 0. 0. 0. 0. 0.]\n",
      " [0. 0. 0. 0. 0. 0. 0. 0.]\n",
      " [0. 0. 0. 0. 0. 0. 0. 0.]\n",
      " [0. 0. 0. 0. 0. 0. 0. 0.]\n",
      " [0. 0. 0. 0. 0. 0. 0. 0.]\n",
      " [0. 0. 0. 0. 0. 0. 0. 0.]\n",
      " [0. 0. 0. 0. 0. 0. 0. 0.]\n",
      " [0. 0. 0. 0. 0. 0. 0. 0.]\n",
      " [0. 0. 0. 0. 0. 0. 0. 0.]\n",
      " [0. 0. 0. 0. 0. 0. 0. 0.]\n",
      " [0. 0. 0. 0. 0. 0. 0. 0.]\n",
      " [0. 0. 0. 0. 0. 0. 0. 0.]\n",
      " [0. 0. 0. 0. 0. 0. 0. 0.]\n",
      " [0. 0. 0. 0. 0. 0. 0. 0.]\n",
      " [0. 0. 0. 0. 0. 0. 0. 0.]\n",
      " [0. 0. 0. 0. 0. 0. 0. 0.]\n",
      " [0. 0. 0. 0. 0. 0. 0. 0.]\n",
      " [0. 0. 0. 0. 0. 0. 0. 0.]\n",
      " [0. 0. 0. 0. 0. 0. 0. 0.]\n",
      " [0. 0. 0. 0. 0. 0. 0. 0.]\n",
      " [0. 0. 0. 0. 0. 0. 0. 0.]\n",
      " [0. 0. 0. 0. 0. 0. 0. 0.]\n",
      " [0. 0. 0. 0. 0. 0. 0. 0.]\n",
      " [0. 0. 0. 0. 0. 0. 0. 0.]\n",
      " [0. 0. 0. 0. 0. 0. 0. 0.]\n",
      " [0. 0. 0. 0. 0. 0. 0. 0.]\n",
      " [0. 0. 0. 0. 0. 0. 0. 0.]\n",
      " [0. 0. 0. 0. 0. 0. 0. 0.]\n",
      " [0. 0. 0. 0. 0. 0. 0. 0.]\n",
      " [0. 0. 0. 0. 0. 0. 0. 0.]\n",
      " [0. 0. 0. 0. 0. 0. 0. 0.]\n",
      " [0. 0. 0. 0. 0. 0. 0. 0.]\n",
      " [0. 0. 0. 0. 0. 0. 0. 0.]\n",
      " [0. 0. 0. 0. 0. 0. 0. 0.]\n",
      " [0. 0. 0. 0. 0. 0. 0. 0.]\n",
      " [0. 0. 0. 0. 0. 0. 0. 0.]\n",
      " [0. 0. 0. 0. 0. 0. 0. 0.]\n",
      " [0. 0. 0. 0. 0. 0. 0. 0.]\n",
      " [0. 0. 0. 0. 0. 0. 0. 0.]\n",
      " [0. 0. 0. 0. 0. 0. 0. 0.]\n",
      " [0. 0. 0. 0. 0. 0. 0. 0.]\n",
      " [0. 0. 0. 0. 0. 0. 0. 0.]\n",
      " [0. 0. 0. 0. 0. 0. 0. 0.]]\n"
     ]
    }
   ],
   "source": [
    "import numpy as np\n",
    "import matplotlib.pyplot as plt\n",
    "from scipy.integrate import odeint\n",
    "\n",
    "# Define the system of differential equations\n",
    "def system(y, t):\n",
    "    lambda1, lambda2, lambda3, lambda4, p1, p2, v1, v2 = y\n",
    "    \n",
    "    # Define derivatives with substituted expressions for u1 and u2\n",
    "    dH_dlambda1 = v1\n",
    "    dH_dlambda2 = Wt*l**2*lambda3**2*sigma*sp.exp(2*t/gamma)/(2*Wt*l*lambda2*sigma*sp.exp(t/gamma) - alpha*epsilon + epsilon)**2 + v2\n",
    "    dH_dlambda3 = -l*lambda3*sp.exp(t/gamma)/(2*Wt*l*lambda2*sigma*sp.exp(t/gamma) - alpha*epsilon + epsilon)\n",
    "    dH_dlambda4 = -l*lambda4*sp.exp(t/gamma)/(alpha*epsilon)\n",
    "    dH_dp1 = 0\n",
    "    dH_dp2 = -2*p2*sp.exp(-T/gamma)*sp.DiracDelta(T - t)\n",
    "    dH_dv1 = -lambda1\n",
    "    dH_dv2 = -lambda2\n",
    "    \n",
    "    return [dH_dlambda1, dH_dlambda2, dH_dlambda3, dH_dlambda4, dH_dp1, dH_dp2, dH_dv1, dH_dv2]\n",
    "\n",
    "t_span = np.linspace(0, 10, 100)\n",
    "\n",
    "# Initial conditions\n",
    "initial_conditions = [0, 0, 0, 0, 0, 0, 0, 0]\n",
    "\n",
    "# Solve the system of differential equations\n",
    "solution = odeint(system, initial_conditions, t_span)\n",
    "\n",
    "# Print the solution\n",
    "print(\"Solution:\")\n",
    "print(solution)"
   ]
  },
  {
   "cell_type": "markdown",
   "id": "3ac18550",
   "metadata": {},
   "source": [
    "Pinta una mica malament :/\n",
    "\n",
    "Pot ser sí que amerita fer el cas més simple possible a mà (apollat amb revisió python) i llavors comprovar que tot funcioni si el *optimal controller* realment maximitza el Hamiltonià. "
   ]
  },
  {
   "cell_type": "markdown",
   "id": "38546257",
   "metadata": {},
   "source": [
    "## Differential equations system: for the simplest case (Linear not Stochastic generating system)"
   ]
  },
  {
   "cell_type": "code",
   "execution_count": 17,
   "id": "a9af8948",
   "metadata": {},
   "outputs": [
    {
     "name": "stdout",
     "output_type": "stream",
     "text": [
      "dH/dlambda1 = v1\n",
      "dH/dlambda2 = v2\n",
      "dH/dlambda3 = u1\n",
      "dH/dlambda4 = u2\n",
      "dH/dv1 = lambda1\n",
      "dH/dv2 = lambda2\n",
      "dH/dp1 = 0\n",
      "dH/dp2 = 0\n",
      "dH/du1 = epsilon*u1*(1 - alpha)*exp(-t/gamma)/l + lambda3\n",
      "dH/du2 = alpha*epsilon*u2*exp(-t/gamma)/l + lambda4\n"
     ]
    }
   ],
   "source": [
    "import sympy as sp\n",
    "\n",
    "# Define symbols\n",
    "t, T, gamma, epsilon, alpha, sigma, l = sp.symbols('t T gamma epsilon alpha sigma l', real=True)\n",
    "lambda1, lambda2, lambda3, lambda4 = sp.symbols('lambda1 lambda2 lambda3 lambda4', real=True)\n",
    "u1, u2 = sp.symbols('u1 u2', real=True)\n",
    "v1, v2 = sp.symbols('v1 v2', real=True)\n",
    "p1, p2 = sp.symbols('p1 p2', real=True)\n",
    "\n",
    "# Define L function\n",
    "def L(x, u):\n",
    "    return (1/T * sp.exp(-T/gamma) - \n",
    "            epsilon * sp.exp(-t/gamma) / l * ((1 - alpha) * (u[0]**2)/2 + alpha * (u[1]**2)/2))\n",
    "\n",
    "# Define H function\n",
    "def H(t, x, lambdas, u):\n",
    "    return (lambdas[0] * x[2] + lambdas[1] * x[3] + \n",
    "            lambdas[2] * u[0] + lambdas[3] * u[1] - L(x, u))\n",
    "\n",
    "# Differentiate H with respect to lambdas, v's, p's, and u's\n",
    "variables = [lambda1, lambda2, lambda3, lambda4, v1, v2, p1, p2, u1, u2]\n",
    "derivatives = []\n",
    "\n",
    "for var in variables:\n",
    "    derivative = sp.diff(H(t, [p1, p2, v1, v2], [lambda1, lambda2, lambda3, lambda4], [u1, u2]), var)\n",
    "    derivatives.append(derivative)\n",
    "\n",
    "# Display derivatives\n",
    "for var, derivative in zip(variables, derivatives):\n",
    "    print(f\"dH/d{var} = {derivative}\")\n"
   ]
  },
  {
   "cell_type": "code",
   "execution_count": 19,
   "id": "3dff1f02",
   "metadata": {},
   "outputs": [
    {
     "name": "stdout",
     "output_type": "stream",
     "text": [
      "Solution for u1 and u2:\n",
      "u_{1} = \\frac{l \\lambda_{3} e^{\\frac{t}{\\gamma}}}{\\alpha \\epsilon - \\epsilon}\n",
      "u_{2} = - \\frac{l \\lambda_{4} e^{\\frac{t}{\\gamma}}}{\\alpha \\epsilon}\n"
     ]
    }
   ],
   "source": [
    "# Define derivatives from previous calculations with u1 being real\n",
    "dH_du1 = epsilon*u1*(1 - alpha)*sp.exp(-t/gamma)/l + lambda3\n",
    "dH_du2 = alpha * epsilon * u2 * sp.exp(-t / gamma) / l + lambda4\n",
    "\n",
    "# Solve the system of equations\n",
    "solution = sp.solve([dH_du1, dH_du2], [u1, u2])\n",
    "\n",
    "# Print the solution\n",
    "print(\"Solution for u1 and u2:\")\n",
    "for u, value in solution.items():\n",
    "    print(f\"{sp.latex(u)} = {sp.latex(value)}\")"
   ]
  },
  {
   "cell_type": "code",
   "execution_count": 20,
   "id": "84d03250",
   "metadata": {},
   "outputs": [
    {
     "name": "stdout",
     "output_type": "stream",
     "text": [
      "Eigenvalues of the Hessian matrix:\n",
      "- \\frac{\\epsilon \\left(\\alpha - 1\\right) e^{- \\frac{t}{\\gamma}}}{l}\n",
      "\\frac{\\alpha \\epsilon e^{- \\frac{t}{\\gamma}}}{l}\n"
     ]
    }
   ],
   "source": [
    "# Define Hessian matrix\n",
    "Hessian = sp.zeros(2)\n",
    "\n",
    "# Define H function\n",
    "#H = lambda2 * (sp.Abs(u1)**2 * sigma * Wt + sp.re(u1)**2 + sp.im(u1)**2) / u1**2 * sp.Abs(u1) * sp.sign(u1) + epsilon * u1 * (1 - alpha) * sp.exp(-t / gamma) / l\n",
    "Hessian[0, 0] = sp.diff(H(t, [p1, p2, v1, v2], [lambda1, lambda2, lambda3, lambda4], [u1, u2]), u1, u1)\n",
    "Hessian[0, 1] = sp.diff(H(t, [p1, p2, v1, v2], [lambda1, lambda2, lambda3, lambda4], [u1, u2]), u1, u2)\n",
    "Hessian[1, 0] = sp.diff(H(t, [p1, p2, v1, v2], [lambda1, lambda2, lambda3, lambda4], [u1, u2]), u2, u1)\n",
    "Hessian[1, 1] = sp.diff(H(t, [p1, p2, v1, v2], [lambda1, lambda2, lambda3, lambda4], [u1, u2]), u2, u2)\n",
    "\n",
    "# Compute eigenvalues\n",
    "eigenvalues = Hessian.eigenvals()\n",
    "\n",
    "# Print eigenvalues\n",
    "print(\"Eigenvalues of the Hessian matrix:\")\n",
    "for eigenvalue in eigenvalues:\n",
    "    print(sp.latex(eigenvalue))"
   ]
  },
  {
   "cell_type": "code",
   "execution_count": null,
   "id": "9e839e4f",
   "metadata": {},
   "outputs": [],
   "source": []
  }
 ],
 "metadata": {
  "kernelspec": {
   "display_name": "Python 3 (ipykernel)",
   "language": "python",
   "name": "python3"
  },
  "language_info": {
   "codemirror_mode": {
    "name": "ipython",
    "version": 3
   },
   "file_extension": ".py",
   "mimetype": "text/x-python",
   "name": "python",
   "nbconvert_exporter": "python",
   "pygments_lexer": "ipython3",
   "version": "3.9.7"
  }
 },
 "nbformat": 4,
 "nbformat_minor": 5
}
